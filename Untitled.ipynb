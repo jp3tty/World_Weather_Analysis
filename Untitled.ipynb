{
 "cells": [
  {
   "cell_type": "code",
   "execution_count": 1,
   "id": "7fe379e2",
   "metadata": {},
   "outputs": [],
   "source": [
    "# Import the random module.\n",
    "import random"
   ]
  },
  {
   "cell_type": "code",
   "execution_count": 5,
   "id": "51d2126b",
   "metadata": {},
   "outputs": [
    {
     "data": {
      "text/plain": [
       "-68.21166606223474"
      ]
     },
     "execution_count": 5,
     "metadata": {},
     "output_type": "execute_result"
    }
   ],
   "source": [
    "random.randint(-90, 89) + random.random()"
   ]
  },
  {
   "cell_type": "code",
   "execution_count": 7,
   "id": "541cd496",
   "metadata": {},
   "outputs": [
    {
     "data": {
      "text/plain": [
       "[3.450951552740248,\n",
       " -66.49443259982435,\n",
       " -71.35094068053941,\n",
       " -22.55547143048135,\n",
       " 9.576269812443227,\n",
       " 83.05790310308956,\n",
       " -39.24868716467187,\n",
       " -82.84221009628995,\n",
       " -16.43031226019777,\n",
       " -89.20225289104707]"
      ]
     },
     "execution_count": 7,
     "metadata": {},
     "output_type": "execute_result"
    }
   ],
   "source": [
    "x = 1\n",
    "latitudes = []\n",
    "while x < 11:\n",
    "    random_lat = random.randint(-90, 89) + random.random()\n",
    "    latitudes.append(random_lat)\n",
    "    x += 1\n",
    "\n",
    "latitudes"
   ]
  },
  {
   "cell_type": "code",
   "execution_count": 8,
   "id": "f59a3f35",
   "metadata": {},
   "outputs": [],
   "source": [
    "# Import the NumbPy module.\n",
    "import numpy as np"
   ]
  },
  {
   "cell_type": "code",
   "execution_count": 9,
   "id": "6d2cdc3e",
   "metadata": {},
   "outputs": [
    {
     "data": {
      "text/plain": [
       "array([ 30.82368917,  48.40845888,  80.9611782 , -63.4267916 ,\n",
       "         2.67577516, -16.46037032, -13.20728063, -31.61480145,\n",
       "        83.51490015, -40.77092559,  42.97947042,  -3.46126148,\n",
       "       -53.9189442 ,  21.85725487,  12.76277078,  48.9619426 ,\n",
       "        41.67935859,  -2.88329071,  40.92243274,  23.05063272,\n",
       "       -65.00172184, -77.95995775,  50.18995016, -10.84886491,\n",
       "        84.1558694 ,  75.84507887,  67.33301968,  21.4356227 ,\n",
       "        58.84863941, -16.27148273, -31.08122155,  29.74285499,\n",
       "        45.10572746,  58.11246511,   3.06922327, -44.26873914,\n",
       "         6.1965951 ,  84.09311331,  29.24349902,  12.24439547,\n",
       "         0.82971575,   1.78554102, -67.73534075, -61.14768055,\n",
       "       -48.23931713,  68.61469383, -23.65735281,  81.153054  ,\n",
       "        76.22220348,  38.30465564])"
      ]
     },
     "execution_count": 9,
     "metadata": {},
     "output_type": "execute_result"
    }
   ],
   "source": [
    "np.random.uniform(-90.000, 90.000, size=50)"
   ]
  },
  {
   "cell_type": "code",
   "execution_count": 10,
   "id": "3ee40a15",
   "metadata": {},
   "outputs": [],
   "source": [
    "# Import timeit.\n",
    "import timeit"
   ]
  },
  {
   "cell_type": "code",
   "execution_count": 11,
   "id": "25506174",
   "metadata": {},
   "outputs": [
    {
     "name": "stdout",
     "output_type": "stream",
     "text": [
      "33.7 µs ± 6.29 µs per loop (mean ± std. dev. of 7 runs, 10000 loops each)\n"
     ]
    }
   ],
   "source": [
    "%timeit np.random.uniform(-90.000, 90.000, size=1500)"
   ]
  },
  {
   "cell_type": "code",
   "execution_count": 12,
   "id": "181fd1ea",
   "metadata": {},
   "outputs": [
    {
     "name": "stdout",
     "output_type": "stream",
     "text": [
      "3.66 ms ± 141 µs per loop (mean ± std. dev. of 7 runs, 100 loops each)\n"
     ]
    }
   ],
   "source": [
    "def latitudes(size):\n",
    "    latitudes = []\n",
    "    x = 0\n",
    "    while x < (size):\n",
    "        random_lat = random.randint(-90, 90) + random.random()\n",
    "        latitudes.append(random_lat)\n",
    "        x += 1\n",
    "    return latitudes\n",
    "# Call the function with 1500.\n",
    "%timeit latitudes(1500)"
   ]
  },
  {
   "cell_type": "code",
   "execution_count": 13,
   "id": "9cb73720",
   "metadata": {},
   "outputs": [
    {
     "data": {
      "text/plain": [
       "array([-85.46483691,  67.63270229,  55.27380521, ...,  28.29657826,\n",
       "       -10.14944191, -67.87894164])"
      ]
     },
     "execution_count": 13,
     "metadata": {},
     "output_type": "execute_result"
    }
   ],
   "source": [
    "np.random.uniform(-90.000, 90.000, size = 1500)"
   ]
  }
 ],
 "metadata": {
  "kernelspec": {
   "display_name": "Python 3",
   "language": "python",
   "name": "python3"
  },
  "language_info": {
   "codemirror_mode": {
    "name": "ipython",
    "version": 3
   },
   "file_extension": ".py",
   "mimetype": "text/x-python",
   "name": "python",
   "nbconvert_exporter": "python",
   "pygments_lexer": "ipython3",
   "version": "3.7.10"
  }
 },
 "nbformat": 4,
 "nbformat_minor": 5
}
